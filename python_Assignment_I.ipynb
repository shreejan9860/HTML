{
  "nbformat": 4,
  "nbformat_minor": 0,
  "metadata": {
    "colab": {
      "name": "FODS_Assignment_I(1).ipynb",
      "provenance": [],
      "collapsed_sections": [],
      "include_colab_link": true
    },
    "kernelspec": {
      "name": "python3",
      "display_name": "Python 3"
    }
  },
  "cells": [
    {
      "cell_type": "markdown",
      "metadata": {
        "id": "view-in-github",
        "colab_type": "text"
      },
      "source": [
        "<a href=\"https://colab.research.google.com/github/shreejan9860/HTML/blob/master/python_Assignment_I.ipynb\" target=\"_parent\"><img src=\"https://colab.research.google.com/assets/colab-badge.svg\" alt=\"Open In Colab\"/></a>"
      ]
    },
    {
      "cell_type": "markdown",
      "metadata": {
        "id": "uiK0fGWOnXcQ"
      },
      "source": [
        "Book :- \r\n",
        "Author :- Mark Lutz \r\n",
        "1. Learning Python 5th Edition O'Reilly\r\n",
        "2.Python Cookbook  David Beazley O'Reilly \r\n",
        "\r\n",
        "Link:- \r\n",
        "1. http://www.cs.uni.edu/~fienup/cs051f10/lectures/\r\n",
        "2. https://github.com/MrAlex6204/Books/blob/master/Learning%20Python%2C%205th%20Edition.pdf\r\n",
        "3. https://github.com/tomarraj008/data_books/blob/master/Python%20Cookbook%2C%203rd%20Edition.pdf\r\n",
        "\r\n"
      ]
    },
    {
      "cell_type": "markdown",
      "metadata": {
        "id": "g5RW89-P01bg"
      },
      "source": [
        "First Week Assignment \r\n",
        "\r\n",
        "Test Your Knowledge: Quiz \r\n",
        "\r\n",
        "1. What are the six main reasons that people choose to use Python?\r\n",
        "2. Name four notable companies or organizations using Python today.\r\n",
        "3. Why might you not want to use Python in an application?\r\n",
        "4. What can you do with Python?\r\n",
        "5. What’s the significance of the Python import this statement?\r\n",
        "6. Why does “spam” show up in so many Python examples in books and on the Web?\r\n",
        "7. What is your favorite color?\r\n",
        "\r\n",
        "\r\n",
        "Test Your Knowledge: Quiz\r\n",
        "1. What is the Python interpreter?\r\n",
        "2. What is source code?\r\n",
        "3. What is byte code?\r\n",
        "4. What is the PVM?\r\n",
        "5. Name two or more variations on Python’s standard execution model.\r\n",
        "6. How are CPython, Jython, and IronPython different?\r\n",
        "7. What are Stackless and PyPy?\r\n",
        "\r\n",
        "Test Your Knowledge: Quiz\r\n",
        "1. How can you start an interactive interpreter session?\r\n",
        "2. Where do you type a system command line to launch a script file?\r\n",
        "3. Name four or more ways to run the code saved in a script file.\r\n",
        "4. Name two pitfalls related to clicking file icons on Windows.\r\n",
        "5. Why might you need to reload a module?\r\n",
        "6. How do you run a script from within IDLE?\r\n",
        "7. Name two pitfalls related to using IDLE.\r\n",
        "8. What is a namespace, and how does it relate to module files?\r\n",
        "\r\n",
        "\r\n",
        "Test Your Knowledge: Quiz\r\n",
        "\r\n",
        "1. Name four of Python’s core data types.\r\n",
        "2. Why are they called “core” data types?\r\n",
        "3. What does “immutable” mean, and which three of Python’s core types are considered immutable?\r\n",
        "4. What does “sequence” mean, and which three types fall into that category?\r\n",
        "5. What does “mapping” mean, and which core type is a mapping?\r\n",
        "6. What is “polymorphism,” and why should you care?\r\n",
        "\r\n",
        "\r\n",
        "\r\n"
      ]
    },
    {
      "cell_type": "markdown",
      "metadata": {
        "id": "6kafgQs5S8WY"
      },
      "source": [
        "**Projects:-**<br>\r\n",
        "1. Open a Python shell, enter the following expressions, and observe the results:<br>\r\n",
        "a. 8<br>\r\n",
        "b. 8 * 2<br>\r\n",
        "c. 8 ** 2<br>\r\n",
        "d. 8/12<br>\r\n",
        "e. 8 // 12<br>\r\n",
        "f. 8/0"
      ]
    },
    {
      "cell_type": "code",
      "metadata": {
        "colab": {
          "base_uri": "https://localhost:8080/",
          "height": 171
        },
        "id": "Th1enxuVgW3E",
        "outputId": "d48c3946-522f-4431-ccfc-169f48da2789"
      },
      "source": [
        "8/0"
      ],
      "execution_count": null,
      "outputs": [
        {
          "output_type": "error",
          "ename": "ZeroDivisionError",
          "evalue": "ignored",
          "traceback": [
            "\u001b[0;31m---------------------------------------------------------------------------\u001b[0m",
            "\u001b[0;31mZeroDivisionError\u001b[0m                         Traceback (most recent call last)",
            "\u001b[0;32m<ipython-input-7-b75faf41dc75>\u001b[0m in \u001b[0;36m<module>\u001b[0;34m()\u001b[0m\n\u001b[0;32m----> 1\u001b[0;31m \u001b[0;36m8\u001b[0m\u001b[0;34m/\u001b[0m\u001b[0;36m0\u001b[0m\u001b[0;34m\u001b[0m\u001b[0;34m\u001b[0m\u001b[0m\n\u001b[0m",
            "\u001b[0;31mZeroDivisionError\u001b[0m: division by zero"
          ]
        }
      ]
    },
    {
      "cell_type": "code",
      "metadata": {
        "colab": {
          "base_uri": "https://localhost:8080/"
        },
        "id": "cUWN2ik8gUho",
        "outputId": "950c8a1e-f7b8-4caf-d291-e21c8f3d31e6"
      },
      "source": [
        "8//12"
      ],
      "execution_count": null,
      "outputs": [
        {
          "output_type": "execute_result",
          "data": {
            "text/plain": [
              "0"
            ]
          },
          "metadata": {
            "tags": []
          },
          "execution_count": 6
        }
      ]
    },
    {
      "cell_type": "code",
      "metadata": {
        "colab": {
          "base_uri": "https://localhost:8080/"
        },
        "id": "SnSbkZuTgSNT",
        "outputId": "b8697a1d-5534-4a9b-b6b8-e65ce6468010"
      },
      "source": [
        "8/12"
      ],
      "execution_count": null,
      "outputs": [
        {
          "output_type": "execute_result",
          "data": {
            "text/plain": [
              "0.6666666666666666"
            ]
          },
          "metadata": {
            "tags": []
          },
          "execution_count": 5
        }
      ]
    },
    {
      "cell_type": "code",
      "metadata": {
        "colab": {
          "base_uri": "https://localhost:8080/"
        },
        "id": "EpKXA5BBgOXA",
        "outputId": "841ac383-a1f1-4ae2-ef60-f6e3bc66cfd3"
      },
      "source": [
        "8 ** 2"
      ],
      "execution_count": null,
      "outputs": [
        {
          "output_type": "execute_result",
          "data": {
            "text/plain": [
              "64"
            ]
          },
          "metadata": {
            "tags": []
          },
          "execution_count": 4
        }
      ]
    },
    {
      "cell_type": "code",
      "metadata": {
        "id": "M0vvPpdkTWOZ",
        "colab": {
          "base_uri": "https://localhost:8080/"
        },
        "outputId": "d6bdc5d7-bb69-448d-cc58-335bd2f0ea4d"
      },
      "source": [
        "8 * 2"
      ],
      "execution_count": null,
      "outputs": [
        {
          "output_type": "execute_result",
          "data": {
            "text/plain": [
              "16"
            ]
          },
          "metadata": {
            "tags": []
          },
          "execution_count": 2
        }
      ]
    },
    {
      "cell_type": "code",
      "metadata": {
        "colab": {
          "base_uri": "https://localhost:8080/"
        },
        "id": "mOMkvb7jgCUB",
        "outputId": "1ba9befe-3dbe-4778-a5f2-f81f2302e88e"
      },
      "source": [
        "8"
      ],
      "execution_count": null,
      "outputs": [
        {
          "output_type": "execute_result",
          "data": {
            "text/plain": [
              "8"
            ]
          },
          "metadata": {
            "tags": []
          },
          "execution_count": 3
        }
      ]
    },
    {
      "cell_type": "markdown",
      "metadata": {
        "id": "ySRylLzXTg4L"
      },
      "source": [
        "2. Write a Python program that prints (displays) your name, address, and telephone number"
      ]
    },
    {
      "cell_type": "code",
      "metadata": {
        "id": "IC-e8BmAUMex",
        "colab": {
          "base_uri": "https://localhost:8080/"
        },
        "outputId": "14ee0472-b9af-4200-f064-2b8b2200f0d0"
      },
      "source": [
        "name= input(\"Enter your name\")\r\n",
        "address = input(\"Enter your address\")\r\n",
        "phone = int(input(\"Enter Phone\"))\r\n",
        "\r\n",
        "print(name)\r\n",
        "print(address)\r\n",
        "print(phone)"
      ],
      "execution_count": 1,
      "outputs": [
        {
          "output_type": "stream",
          "text": [
            "Enter your nameshreejan\n",
            "Enter your addresspkr\n",
            "Enter Phone98989\n",
            "shreejan\n",
            "pkr\n",
            "98989\n"
          ],
          "name": "stdout"
        }
      ]
    },
    {
      "cell_type": "markdown",
      "metadata": {
        "id": "H-t99QCLUNap"
      },
      "source": [
        "3. Evaluate the following code at a shell prompt: print(\"Your name is\", name). Then assign name an appropriate value, and evaluate the statement again."
      ]
    },
    {
      "cell_type": "code",
      "metadata": {
        "id": "dXcXgJUSUhwR",
        "colab": {
          "base_uri": "https://localhost:8080/"
        },
        "outputId": "ee0669b2-24c8-4132-ae4b-397f8ace8172"
      },
      "source": [
        "print(\"Your name is\", name)"
      ],
      "execution_count": 2,
      "outputs": [
        {
          "output_type": "stream",
          "text": [
            "Your name is shreejan\n"
          ],
          "name": "stdout"
        }
      ]
    },
    {
      "cell_type": "markdown",
      "metadata": {
        "id": "qjgWML-AUi-v"
      },
      "source": [
        "4. Write and test a program that accepts the user's name(as text) and age(as a number) as input. The program should output a sentense containing the user's name and age."
      ]
    },
    {
      "cell_type": "code",
      "metadata": {
        "id": "a3yt3ND1WkF0",
        "colab": {
          "base_uri": "https://localhost:8080/"
        },
        "outputId": "3c291226-9db4-4595-db35-e4844b2ef91d"
      },
      "source": [
        "name= str(input(\"Enter your name:\"))\r\n",
        "age = int(input(\"How old are you? \"))\r\n",
        "print(name + str(age))"
      ],
      "execution_count": 3,
      "outputs": [
        {
          "output_type": "stream",
          "text": [
            "Enter your name:shree\n",
            "How old are you? 21\n",
            "shree21\n"
          ],
          "name": "stdout"
        }
      ]
    },
    {
      "cell_type": "markdown",
      "metadata": {
        "id": "Fw-qO1W9WlGW"
      },
      "source": [
        "5. Write and test a program that computes the area of a circle. This program should request a number representing  a radius as input from the user. It should use the formula 3.14*radius**2 to compute the area and then output this result suitably labeled."
      ]
    },
    {
      "cell_type": "code",
      "metadata": {
        "id": "PwqzW8U-W8fB",
        "colab": {
          "base_uri": "https://localhost:8080/"
        },
        "outputId": "b8b543b6-9b52-4d7f-e1f7-da1b3f4f60f3"
      },
      "source": [
        "r = int(input(\"Input radius: \"))\r\n",
        "a=3.14\r\n",
        "b=2\r\n",
        "print(\"The area of circle is:\")\r\n",
        "print(a*r*b)"
      ],
      "execution_count": null,
      "outputs": [
        {
          "output_type": "stream",
          "text": [
            "Input radius: 22\n",
            "The area of circle is:\n",
            "138.16\n"
          ],
          "name": "stdout"
        }
      ]
    },
    {
      "cell_type": "markdown",
      "metadata": {
        "id": "roHMT8eHXDFg"
      },
      "source": [
        "6. Enter an input statement using the input function at the shll prompt. When the prompt asks you for input, enter a number. Then, attempt to add 1 to that number, observe the results and explain what happened."
      ]
    },
    {
      "cell_type": "code",
      "metadata": {
        "id": "Y9danKsrXXLJ",
        "colab": {
          "base_uri": "https://localhost:8080/"
        },
        "outputId": "1ec9f42c-609c-4019-910e-3c8ac539fa6a"
      },
      "source": [
        "a=int(input(\"Enter the number:\"))\r\n",
        "b=a+1\r\n",
        "print(b)"
      ],
      "execution_count": 5,
      "outputs": [
        {
          "output_type": "stream",
          "text": [
            "Enter the number:3\n",
            "4\n"
          ],
          "name": "stdout"
        }
      ]
    },
    {
      "cell_type": "markdown",
      "metadata": {
        "id": "-ud9b4rIXdyO"
      },
      "source": [
        "7. Enter the expression help() at the shell prompt. Follow the instructions to browse the topics and modules."
      ]
    },
    {
      "cell_type": "code",
      "metadata": {
        "id": "Q6DP_R5hXmmS",
        "colab": {
          "base_uri": "https://localhost:8080/"
        },
        "outputId": "642f95eb-7694-49f0-bf49-07fde8579cd1"
      },
      "source": [
        "help()"
      ],
      "execution_count": null,
      "outputs": [
        {
          "output_type": "stream",
          "text": [
            "\n",
            "Welcome to Python 3.7's help utility!\n",
            "\n",
            "If this is your first time using Python, you should definitely check out\n",
            "the tutorial on the Internet at https://docs.python.org/3.7/tutorial/.\n",
            "\n",
            "Enter the name of any module, keyword, or topic to get help on writing\n",
            "Python programs and using Python modules.  To quit this help utility and\n",
            "return to the interpreter, just type \"quit\".\n",
            "\n",
            "To get a list of available modules, keywords, symbols, or topics, type\n",
            "\"modules\", \"keywords\", \"symbols\", or \"topics\".  Each module also comes\n",
            "with a one-line summary of what it does; to list the modules whose name\n",
            "or summary contain a given string such as \"spam\", type \"modules spam\".\n",
            "\n",
            "help> topics\n",
            "\n",
            "Here is a list of available topics.  Enter any topic name to get more help.\n",
            "\n",
            "ASSERTION           DELETION            LOOPING             SHIFTING\n",
            "ASSIGNMENT          DICTIONARIES        MAPPINGMETHODS      SLICINGS\n",
            "ATTRIBUTEMETHODS    DICTIONARYLITERALS  MAPPINGS            SPECIALATTRIBUTES\n",
            "ATTRIBUTES          DYNAMICFEATURES     METHODS             SPECIALIDENTIFIERS\n",
            "AUGMENTEDASSIGNMENT ELLIPSIS            MODULES             SPECIALMETHODS\n",
            "BASICMETHODS        EXCEPTIONS          NAMESPACES          STRINGMETHODS\n",
            "BINARY              EXECUTION           NONE                STRINGS\n",
            "BITWISE             EXPRESSIONS         NUMBERMETHODS       SUBSCRIPTS\n",
            "BOOLEAN             FLOAT               NUMBERS             TRACEBACKS\n",
            "CALLABLEMETHODS     FORMATTING          OBJECTS             TRUTHVALUE\n",
            "CALLS               FRAMEOBJECTS        OPERATORS           TUPLELITERALS\n",
            "CLASSES             FRAMES              PACKAGES            TUPLES\n",
            "CODEOBJECTS         FUNCTIONS           POWER               TYPEOBJECTS\n",
            "COMPARISON          IDENTIFIERS         PRECEDENCE          TYPES\n",
            "COMPLEX             IMPORTING           PRIVATENAMES        UNARY\n",
            "CONDITIONAL         INTEGER             RETURNING           UNICODE\n",
            "CONTEXTMANAGERS     LISTLITERALS        SCOPING             \n",
            "CONVERSIONS         LISTS               SEQUENCEMETHODS     \n",
            "DEBUGGING           LITERALS            SEQUENCES           \n",
            "\n",
            "help> modules\n",
            "\n",
            "Please wait a moment while I gather a list of all available modules...\n",
            "\n"
          ],
          "name": "stdout"
        },
        {
          "output_type": "stream",
          "text": [
            "/usr/local/lib/python3.7/dist-packages/IPython/kernel/__init__.py:13: ShimWarning: The `IPython.kernel` package has been deprecated since IPython 4.0.You should import from ipykernel or jupyter_client instead.\n",
            "  \"You should import from ipykernel or jupyter_client instead.\", ShimWarning)\n",
            "WARNING: AstropyDeprecationWarning: The private astropy._erfa module has been made into its own package, pyerfa, which is a dependency of astropy and can be imported directly using \"import erfa\" [astropy._erfa]\n",
            "/usr/local/lib/python3.7/dist-packages/datascience/tables.py:17: MatplotlibDeprecationWarning:\n",
            "\n",
            "The 'warn' parameter of use() is deprecated since Matplotlib 3.1 and will be removed in 3.3.  If any parameter follows 'warn', they should be pass as keyword, not positionally.\n",
            "\n",
            "/usr/local/lib/python3.7/dist-packages/datascience/util.py:10: MatplotlibDeprecationWarning:\n",
            "\n",
            "The 'warn' parameter of use() is deprecated since Matplotlib 3.1 and will be removed in 3.3.  If any parameter follows 'warn', they should be pass as keyword, not positionally.\n",
            "\n",
            "/usr/local/lib/python3.7/dist-packages/psycopg2/__init__.py:144: UserWarning:\n",
            "\n",
            "The psycopg2 wheel package will be renamed from release 2.8; in order to keep installing from binary please use \"pip install psycopg2-binary\" instead. For details see: <http://initd.org/psycopg/docs/install.html#binary-install-from-pypi>.\n",
            "\n",
            "/usr/local/lib/python3.7/dist-packages/sklearn/externals/six.py:31: FutureWarning:\n",
            "\n",
            "The module is deprecated in version 0.21 and will be removed in version 0.23 since we've dropped support for Python 2.7. Please rely on the official version of six (https://pypi.org/project/six/).\n",
            "\n",
            "/usr/local/lib/python3.7/dist-packages/sklearn/utils/deprecation.py:144: FutureWarning:\n",
            "\n",
            "The sklearn.neighbors.base module is  deprecated in version 0.22 and will be removed in version 0.24. The corresponding classes / functions should instead be imported from sklearn.neighbors. Anything that cannot be imported from sklearn.neighbors is now part of the private API.\n",
            "\n",
            "/usr/local/lib/python3.7/dist-packages/sklearn/utils/deprecation.py:144: FutureWarning:\n",
            "\n",
            "The sklearn.datasets.base module is  deprecated in version 0.22 and will be removed in version 0.24. The corresponding classes / functions should instead be imported from sklearn.datasets. Anything that cannot be imported from sklearn.datasets is now part of the private API.\n",
            "\n",
            "/usr/local/lib/python3.7/dist-packages/sklearn/utils/deprecation.py:144: FutureWarning:\n",
            "\n",
            "The sklearn.ensemble.bagging module is  deprecated in version 0.22 and will be removed in version 0.24. The corresponding classes / functions should instead be imported from sklearn.ensemble. Anything that cannot be imported from sklearn.ensemble is now part of the private API.\n",
            "\n",
            "/usr/local/lib/python3.7/dist-packages/sklearn/utils/deprecation.py:144: FutureWarning:\n",
            "\n",
            "The sklearn.ensemble.base module is  deprecated in version 0.22 and will be removed in version 0.24. The corresponding classes / functions should instead be imported from sklearn.ensemble. Anything that cannot be imported from sklearn.ensemble is now part of the private API.\n",
            "\n",
            "/usr/local/lib/python3.7/dist-packages/sklearn/utils/deprecation.py:144: FutureWarning:\n",
            "\n",
            "The sklearn.ensemble.forest module is  deprecated in version 0.22 and will be removed in version 0.24. The corresponding classes / functions should instead be imported from sklearn.ensemble. Anything that cannot be imported from sklearn.ensemble is now part of the private API.\n",
            "\n",
            "/usr/local/lib/python3.7/dist-packages/sklearn/externals/joblib/__init__.py:15: FutureWarning:\n",
            "\n",
            "sklearn.externals.joblib is deprecated in 0.21 and will be removed in 0.23. Please import this functionality directly from joblib, which can be installed with: pip install joblib. If this warning is raised when loading pickled models, you may need to re-serialize those models with scikit-learn 0.21+.\n",
            "\n",
            "/usr/local/lib/python3.7/dist-packages/sklearn/utils/deprecation.py:144: FutureWarning:\n",
            "\n",
            "The sklearn.utils.testing module is  deprecated in version 0.22 and will be removed in version 0.24. The corresponding classes / functions should instead be imported from sklearn.utils. Anything that cannot be imported from sklearn.utils is now part of the private API.\n",
            "\n",
            "/usr/local/lib/python3.7/dist-packages/sklearn/utils/deprecation.py:144: FutureWarning:\n",
            "\n",
            "The sklearn.metrics.classification module is  deprecated in version 0.22 and will be removed in version 0.24. The corresponding classes / functions should instead be imported from sklearn.metrics. Anything that cannot be imported from sklearn.metrics is now part of the private API.\n",
            "\n"
          ],
          "name": "stderr"
        },
        {
          "output_type": "stream",
          "text": [
            "Downloading http://dlib.net/files/shape_predictor_68_face_landmarks.dat.bz2 to /root/mlxtend_data/shape_predictor_68_face_landmarks.dat.bz2\n"
          ],
          "name": "stdout"
        },
        {
          "output_type": "stream",
          "text": [
            "/usr/lib/python3.7/pkgutil.py:92: UserWarning:\n",
            "\n",
            "The DICOM readers are highly experimental, unstable, and only work for Siemens time-series at the moment\n",
            "Please use with caution.  We would be grateful for your help in improving them\n",
            "\n",
            "/usr/local/lib/python3.7/dist-packages/nltk/twitter/__init__.py:20: UserWarning:\n",
            "\n",
            "The twython library has not been installed. Some functionality from the twitter package will not be available.\n",
            "\n",
            "Exception ignored in: <_io.FileIO name='/usr/local/lib/python3.7/dist-packages/theano/gof/c_code/lazylinker_c.c' mode='rb' closefd=True>\n",
            "ResourceWarning: unclosed file <_io.TextIOWrapper name='/usr/local/lib/python3.7/dist-packages/theano/gof/c_code/lazylinker_c.c' mode='r' encoding='UTF-8'>\n",
            "WARNING:pystan:This submodule contains experimental code, please use with caution\n"
          ],
          "name": "stderr"
        },
        {
          "output_type": "stream",
          "text": [
            "No CUDA runtime is found, using CUDA_HOME='/usr/local/cuda'\n",
            "Cython              community           keras               random\n",
            "IPython             compileall          keras_preprocessing re\n",
            "OpenGL              concurrent          keyword             readline\n",
            "PIL                 configparser        kiwisolver          regex\n",
            "ScreenResolution    contextlib          knnimpute           reprlib\n",
            "__future__          contextlib2         korean_lunar_calendar requests\n",
            "_abc                contextvars         lib2to3             requests_oauthlib\n",
            "_ast                convertdate         libfuturize         resampy\n",
            "_asyncio            copy                libpasteurize       resource\n",
            "_bisect             copyreg             librosa             retrying\n",
            "_blake2             coverage            lightgbm            rlcompleter\n",
            "_bootlocale         coveralls           linecache           rmagic\n",
            "_bz2                crcmod              llvmlite            rpy2\n",
            "_cffi_backend       crypt               lmdb                rsa\n",
            "_codecs             csv                 locale              runpy\n",
            "_codecs_cn          ctypes              logging             samples\n",
            "_codecs_hk          cufflinks           lsb_release         sched\n",
            "_codecs_iso2022     curses              lucid               scipy\n",
            "_codecs_jp          cv2                 lunarcalendar       scs\n",
            "_codecs_kr          cvxopt              lxml                seaborn\n",
            "_codecs_tw          cvxpy               lzma                secrets\n",
            "_collections        cycler              macpath             select\n",
            "_collections_abc    cymem               mailbox             selectors\n",
            "_compat_pickle      cython              mailcap             send2trash\n",
            "_compression        cythonmagic         markdown            setuptools\n",
            "_contextvars        daft                markupsafe          setuptools_git\n",
            "_crypt              dask                marshal             shapely\n",
            "_csv                dataclasses         math                shelve\n",
            "_ctypes             datascience         matplotlib          shlex\n",
            "_ctypes_test        datetime            matplotlib_venn     shutil\n",
            "_curses             dateutil            mimetypes           signal\n",
            "_curses_panel       dbm                 missingno           simplegeneric\n",
            "_cvxcore            dbus                mistune             site\n",
            "_datetime           debugpy             mizani              sitecustomize\n",
            "_dbm                decimal             mlxtend             six\n",
            "_decimal            decorator           mmap                skimage\n",
            "_distutils_hack     defusedxml          modulefinder        sklearn\n",
            "_dummy_thread       descartes           more_itertools      sklearn_pandas\n",
            "_ecos               difflib             moviepy             slugify\n",
            "_elementtree        dill                mpmath              smart_open\n",
            "_functools          dis                 msgpack             smtpd\n",
            "_hashlib            distributed         multiprocess        smtplib\n",
            "_heapq              distutils           multiprocessing     sndhdr\n",
            "_imp                django              multitasking        snowballstemmer\n",
            "_io                 dlib                murmurhash          socket\n",
            "_json               docopt              music21             socketserver\n",
            "_locale             docs                natsort             socks\n",
            "_lsprof             doctest             nbclient            sockshandler\n",
            "_lzma               docutils            nbconvert           softwareproperties\n",
            "_markupbase         dopamine            nbformat            sortedcontainers\n",
            "_md5                dot_parser          nest_asyncio        soundfile\n",
            "_multibytecodec     dummy_threading     netrc               spacy\n",
            "_multiprocess       easydict            networkx            sphinx\n",
            "_multiprocessing    ecos                nibabel             spwd\n",
            "_opcode             editdistance        nis                 sql\n",
            "_operator           ee                  nisext              sqlalchemy\n",
            "_osx_support        email               nltk                sqlite3\n",
            "_pickle             en_core_web_sm      nntplib             sqlparse\n",
            "_plotly_future_     encodings           notebook            sre_compile\n",
            "_plotly_utils       entrypoints         np_utils            sre_constants\n",
            "_posixsubprocess    enum                ntpath              sre_parse\n",
            "_py_abc             ephem               nturl2path          srsly\n",
            "_pydecimal          erfa                numba               ssl\n",
            "_pyio               errno               numbergen           stat\n",
            "_pyrsistent_version et_xmlfile          numbers             statistics\n",
            "_pytest             examples            numexpr             statsmodels\n",
            "_queue              fa2                 numpy               storemagic\n",
            "_random             fancyimpute         nvidia_smi          string\n",
            "_rinterface_cffi_abi fastai              oauth2client        stringprep\n",
            "_rinterface_cffi_api fastdtw             oauthlib            struct\n",
            "_scs_direct         fastprogress        ogr                 subprocess\n",
            "_scs_indirect       fastrlock           okgrade             sunau\n",
            "_scs_python         faulthandler        onnx_chainer        symbol\n",
            "_sha1               fbprophet           opcode              sympy\n",
            "_sha256             fcntl               openpyxl            sympyprinting\n",
            "_sha3               feather             operator            symtable\n",
            "_sha512             filecmp             opt_einsum          sys\n",
            "_signal             fileinput           optparse            sysconfig\n",
            "_sitebuiltins       filelock            os                  syslog\n",
            "_socket             firebase_admin      osgeo               tables\n",
            "_soundfile          fix_yahoo_finance   osqp                tabnanny\n",
            "_sqlite3            flask               osqppurepy          tabulate\n",
            "_sre                flatbuffers         osr                 tarfile\n",
            "_ssl                fnmatch             ossaudiodev         tblib\n",
            "_stat               folium              packaging           telnetlib\n",
            "_string             formatter           palettable          tempfile\n",
            "_strptime           fractions           pandas              tensorboard\n",
            "_struct             ftplib              pandas_datareader   tensorboard_plugin_wit\n",
            "_symtable           functools           pandas_gbq          tensorflow\n",
            "_sysconfigdata_m_linux_x86_64-linux-gnu future              pandas_profiling    tensorflow_datasets\n",
            "_testbuffer         gast                pandocfilters       tensorflow_estimator\n",
            "_testcapi           gc                  panel               tensorflow_gcs_config\n",
            "_testimportmultiple gdal                param               tensorflow_hub\n",
            "_testmultiphase     gdalconst           parser              tensorflow_metadata\n",
            "_thread             gdalnumeric         parso               tensorflow_probability\n",
            "_threading_local    gdown               past                termcolor\n",
            "_tkinter            genericpath         pasta               terminado\n",
            "_tracemalloc        gensim              pathlib             termios\n",
            "_warnings           geographiclib       patsy               test\n",
            "_weakref            geopy               pdb                 testpath\n",
            "_weakrefset         getopt              pexpect             tests\n",
            "_xxtestfuzz         getpass             pickle              text_unidecode\n",
            "abc                 gettext             pickleshare         textblob\n",
            "absl                gi                  pickletools         textgenrnn\n",
            "aifc                gin                 pip                 textwrap\n",
            "alabaster           github2pypi         pipes               theano\n",
            "albumentations      glob                piptools            thinc\n",
            "altair              glob2               pkg_resources       this\n",
            "antigravity         gnm                 pkgutil             threading\n",
            "apiclient           google_auth_httplib2 plac                tifffile\n",
            "appdirs             google_auth_oauthlib plac_core           time\n",
            "apt                 google_drive_downloader plac_ext            timeit\n",
            "apt_inst            googleapiclient     plac_tk             tkinter\n",
            "apt_pkg             googlesearch        platform            tlz\n",
            "aptsources          graphviz            plistlib            token\n",
            "argon2              gridfs              plotly              tokenize\n",
            "argparse            grp                 plotlywidget        toml\n",
            "array               grpc                plotnine            toolz\n",
            "asgiref             gspread             pluggy              torch\n",
            "ast                 gspread_dataframe   pooch               torchsummary\n",
            "astor               gym                 poplib              torchtext\n",
            "astropy             gzip                portpicker          torchvision\n",
            "astunparse          h5py                posix               tornado\n",
            "async_generator     hashlib             posixpath           tqdm\n",
            "asynchat            heapdict            pprint              trace\n",
            "asyncio             heapq               prefetch_generator  traceback\n",
            "asyncore            hijri_converter     preshed             tracemalloc\n",
            "atari_py            hmac                prettytable         traitlets\n",
            "atexit              holidays            profile             tree\n",
            "atomicwrites        holoviews           progressbar         tty\n",
            "attr                html                prometheus_client   turtle\n",
            "audioop             html5lib            promise             tweepy\n",
            "audioread           http                prompt_toolkit      typeguard\n",
            "autograd            httpimport          pstats              types\n",
            "autoreload          httplib2            psutil              typing\n",
            "babel               httplib2shim        psycopg2            typing_extensions\n",
            "backcall            humanize            pty                 tzlocal\n",
            "base64              hyperopt            ptyprocess          umap\n",
            "bdb                 ideep4py            pvectorc            unicodedata\n",
            "bin                 idna                pwd                 unittest\n",
            "binascii            image               py                  uritemplate\n",
            "binhex              imageio             py_compile          urllib\n",
            "bisect              imagesize           pyarrow             urllib3\n",
            "bleach              imaplib             pyasn1              uu\n",
            "blis                imblearn            pyasn1_modules      uuid\n",
            "bokeh               imgaug              pyclbr              vega_datasets\n",
            "boost               imghdr              pycocotools         venv\n",
            "bottleneck          imp                 pycparser           vis\n",
            "branca              importlib           pyct                warnings\n",
            "bs4                 importlib_metadata  pydata_google_auth  wasabi\n",
            "bson                importlib_resources pydoc               wave\n",
            "builtins            imutils             pydoc_data          wcwidth\n",
            "bz2                 inflect             pydot               weakref\n",
            "cProfile            iniconfig           pydot_ng            webbrowser\n",
            "cachecontrol        inspect             pydotplus           webencodings\n",
            "cachetools          intervaltree        pydrive             werkzeug\n",
            "caffe2              io                  pyemd               wheel\n",
            "calendar            ipaddress           pyexpat             widgetsnbextension\n",
            "catalogue           ipykernel           pyglet              wordcloud\n",
            "certifi             ipykernel_launcher  pygments            wrapt\n",
            "cffi                ipython_genutils    pygtkcompat         wsgiref\n",
            "cgi                 ipywidgets          pylab               xarray\n",
            "cgitb               isympy              pymc3               xdrlib\n",
            "chainer             itertools           pymeeus             xgboost\n",
            "chainermn           itsdangerous        pymongo             xkit\n",
            "chainerx            jax                 pymystem3           xlrd\n",
            "chardet             jaxlib              pynndescent         xlwt\n",
            "chess               jdcal               pynvml              xml\n",
            "chunk               jedi                pyparsing           xmlrpc\n",
            "click               jieba               pyrsistent          xxlimited\n",
            "client              jinja2              pysndfile           xxsubtype\n",
            "cloudpickle         joblib              pystan              yaml\n",
            "cmake               jpeg4py             pytest              yellowbrick\n",
            "cmath               json                python_utils        zict\n",
            "cmd                 jsonschema          pytz                zipapp\n",
            "cmdstanpy           jupyter             pyviz_comms         zipfile\n",
            "code                jupyter_client      pywt                zipimport\n",
            "codecs              jupyter_console     pyximport           zipp\n",
            "codeop              jupyter_core        qdldl               zlib\n",
            "colab               jupyterlab_pygments qtconsole           zmq\n",
            "collections         jupyterlab_widgets  qtpy                \n",
            "colorlover          kaggle              queue               \n",
            "colorsys            kapre               quopri              \n",
            "\n",
            "Enter any module name to get more help.  Or, type \"modules spam\" to search\n",
            "for modules whose name or summary contain the string \"spam\".\n",
            "\n",
            "\n",
            "You are now leaving help and returning to the Python interpreter.\n",
            "If you want to ask for help on a particular object directly from the\n",
            "interpreter, you can type \"help(object)\".  Executing \"help('string')\"\n",
            "has the same effect as typing a particular string at the help> prompt.\n"
          ],
          "name": "stdout"
        }
      ]
    },
    {
      "cell_type": "markdown",
      "metadata": {
        "id": "Mh0jLr5HYCzo"
      },
      "source": [
        "8. The tax calculator program of the case study outputs a floating-point number that might show more than two digits of precision. Use the round function to modify the program to display at most two digits of precision in the output number."
      ]
    },
    {
      "cell_type": "code",
      "metadata": {
        "id": "6JN4PaojYEK4",
        "colab": {
          "base_uri": "https://localhost:8080/"
        },
        "outputId": "b3edfd65-911b-4e7b-bf17-0d52af0c757f"
      },
      "source": [
        "taxrate=2\r\n",
        "ds = 500\r\n",
        "dd = 300\r\n",
        "\r\n",
        "\r\n",
        "gi = float(input(\"Enter the income: \"))\r\n",
        "dep = int(input(\"Enter the number of dependents: \"))   \r\n",
        "\r\n",
        "\r\n",
        "taxIncome =  gi- dd - \\\r\n",
        "dd * dep\r\n",
        "incomeTax = taxIncome * taxrate\r\n",
        "\r\n",
        "# Display the income tax\r\n",
        "print(\"The income tax is Rs:\" + str(incomeTax))\r\n"
      ],
      "execution_count": 6,
      "outputs": [
        {
          "output_type": "stream",
          "text": [
            "Enter the income: 5000\n",
            "Enter the number of dependents: 3\n",
            "The income tax is Rs:7600.0\n"
          ],
          "name": "stdout"
        }
      ]
    },
    {
      "cell_type": "markdown",
      "metadata": {
        "id": "SeHW1j9kYF8Q"
      },
      "source": [
        "9. You can calculate the surface area of a cube if you know the length of an edge. Write a program that takes the length of an edge(an integer) as input and prints the cube's surface area as output."
      ]
    },
    {
      "cell_type": "code",
      "metadata": {
        "id": "otcAXgxxYkx6",
        "colab": {
          "base_uri": "https://localhost:8080/"
        },
        "outputId": "9647fc7c-ebcc-4d78-f5b5-d3272fb4d14b"
      },
      "source": [
        "surfaceArea = int(input(\"Enter the length of edge: \"))\r\n",
        "result = 6 \r\n",
        "print(\"The surface area of cube is\", result, \"square units.\")"
      ],
      "execution_count": null,
      "outputs": [
        {
          "output_type": "stream",
          "text": [
            "Enter the length of edge: 12\n",
            "The surface area is 6 square units.\n"
          ],
          "name": "stdout"
        }
      ]
    },
    {
      "cell_type": "markdown",
      "metadata": {
        "id": "O3379lCKYlcr"
      },
      "source": [
        "10.Five Star Retro Video rents VHS tapes and DVDs to the same connoisseurs who like to buy LP record albums. The store rents new videos for $3.00 a night, and oldies for $2.00 a night.\r\n",
        "\r\n",
        "Write a program that the clerks at Five Star Retro Video can use to calculate the total charge for a customer’s video rentals.\r\n",
        "\r\n",
        "The program should prompt the user for the number of each type of video and output the total cost."
      ]
    },
    {
      "cell_type": "code",
      "metadata": {
        "id": "kKoIAmUpY4dY",
        "colab": {
          "base_uri": "https://localhost:8080/"
        },
        "outputId": "439681d9-3a24-420a-87cf-44c5f8381ca8"
      },
      "source": [
        "videos = int(input(\"Enter the number of new videos: \"))\r\n",
        "oldies = int(input(\"Enter the number of oldies: \"))\r\n",
        "result = (videos*3.00) + (oldies*2.00)\r\n",
        "print(\"The total cost is\",\"$\",result)"
      ],
      "execution_count": null,
      "outputs": [
        {
          "output_type": "stream",
          "text": [
            "Enter the number of new videos: 12\n",
            "Enter the number of oldies: 22\n",
            "The total cost is $ 80.0\n"
          ],
          "name": "stdout"
        }
      ]
    },
    {
      "cell_type": "markdown",
      "metadata": {
        "id": "oBQWzZuoY9dH"
      },
      "source": [
        "11. Write a program that takes the radius of a sphere(a floating point number) as input and then outputs the sphere's diameter, circumference, surface area and volume."
      ]
    },
    {
      "cell_type": "code",
      "metadata": {
        "id": "MNAlLLYrbatP",
        "colab": {
          "base_uri": "https://localhost:8080/"
        },
        "outputId": "3baa6825-3109-44f8-8fec-dd46715e90e5"
      },
      "source": [
        "pie=22/7\r\n",
        "radian = float(input('Radius of sphere: '))\r\n",
        "surfaceArea = 4 * pie * radian **2\r\n",
        "volume = (4/3) * (pie * radian ** 3)\r\n",
        "print(\"Surface Area is: \", surfaceArea)\r\n",
        "print(\"Volume is: \", volume)"
      ],
      "execution_count": 7,
      "outputs": [
        {
          "output_type": "stream",
          "text": [
            "Radius of sphere: 2\n",
            "Surface Area is:  50.285714285714285\n",
            "Volume is:  33.52380952380952\n"
          ],
          "name": "stdout"
        }
      ]
    },
    {
      "cell_type": "markdown",
      "metadata": {
        "id": "zOx3W9G8bb_2"
      },
      "source": [
        "12. Instructions An object's momentum is its mass multiplied by its velocity. Write a program that accepts an object's mass (in kilograms) and velocity (in meters per second) as inputs, and then outputs its momentum."
      ]
    },
    {
      "cell_type": "code",
      "metadata": {
        "id": "hlYAuUajdI0X"
      },
      "source": [
        ""
      ],
      "execution_count": null,
      "outputs": []
    },
    {
      "cell_type": "markdown",
      "metadata": {
        "id": "jU4yPCcrdf0D"
      },
      "source": [
        "13. The kinetic energy of a moving object is given by the formula KE = ½mv2 where m is the object’s mass and v is its velocity.\r\n",
        "\r\n",
        "Modify the program you created in Project 5 so that it prints the object’s kinetic energy as well as its momentum."
      ]
    },
    {
      "cell_type": "code",
      "metadata": {
        "id": "ocVu-KGkd9lN"
      },
      "source": [
        ""
      ],
      "execution_count": null,
      "outputs": []
    },
    {
      "cell_type": "markdown",
      "metadata": {
        "id": "KGUdbd0Od-TE"
      },
      "source": [
        "14. An employee’s total weekly pay equals the hourly wage multiplied by the total number of regular hours plus any overtime pay. Overtime pay equals the total overtime hours multiplied by 1.5 times the hourly wage. Write a program that takes as inputs the hourly wage, total regular hours, and total overtime hours and displays an employee’s total weekly pay."
      ]
    },
    {
      "cell_type": "code",
      "metadata": {
        "id": "d4lYL0jFekM1"
      },
      "source": [
        ""
      ],
      "execution_count": null,
      "outputs": []
    },
    {
      "cell_type": "markdown",
      "metadata": {
        "id": "6KBqGepcfGWI"
      },
      "source": [
        ""
      ]
    }
  ]
}