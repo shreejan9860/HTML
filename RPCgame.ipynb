{
  "nbformat": 4,
  "nbformat_minor": 0,
  "metadata": {
    "colab": {
      "name": "Untitled1.ipynb",
      "provenance": [],
      "authorship_tag": "ABX9TyOH6If82he0+WIRZrdfIRZh",
      "include_colab_link": true
    },
    "kernelspec": {
      "name": "python3",
      "display_name": "Python 3"
    },
    "language_info": {
      "name": "python"
    }
  },
  "cells": [
    {
      "cell_type": "markdown",
      "metadata": {
        "id": "view-in-github",
        "colab_type": "text"
      },
      "source": [
        "<a href=\"https://colab.research.google.com/github/shreejan9860/HTML/blob/master/RPCgame.ipynb\" target=\"_parent\"><img src=\"https://colab.research.google.com/assets/colab-badge.svg\" alt=\"Open In Colab\"/></a>"
      ]
    },
    {
      "cell_type": "code",
      "metadata": {
        "colab": {
          "base_uri": "https://localhost:8080/"
        },
        "id": "hsQ1g2sXmnQp",
        "outputId": "f2cb3376-609a-4afe-eab6-8fc70601417a"
      },
      "source": [
        "import random\n",
        "\n",
        "def game(user,comp):\n",
        "    if comp==user:\n",
        "            return None\n",
        "    elif comp=='r':\n",
        "        if user=='p':\n",
        "            return True\n",
        "        elif user=='s':\n",
        "            return False\n",
        "    elif comp=='p':\n",
        "        if user=='s':\n",
        "            return True\n",
        "        elif user=='r':\n",
        "            return False\n",
        "    elif comp=='s':\n",
        "        if user=='r':\n",
        "            return True\n",
        "        elif user=='p':\n",
        "            return False\n",
        "\n",
        "print(\"computers trun: Choose rock(r) paper(p) scissor(s)\")\n",
        "randomNo=random.randint(1,3)\n",
        "# print(randomNo)\n",
        "if randomNo==1:\n",
        "    comp='r'\n",
        "elif randomNo==2:\n",
        "    comp='p'\n",
        "else:\n",
        "    comp='s'\n",
        "user=input(print(\"your trun: Choose rock(r) paper(p) scissor(s)\"))\n",
        "\n",
        "a=game(user,comp)\n",
        "print(f\"you choose {user}\" )\n",
        "print(f\"computer choose {comp}\")\n",
        "if a==None:\n",
        "    print(\"A game is tie\")\n",
        "elif a:\n",
        "    print(\"you win\")\n",
        "else :\n",
        "    print(\"you loose\")"
      ],
      "execution_count": 1,
      "outputs": [
        {
          "output_type": "stream",
          "text": [
            "computers trun: Choose rock(r) paper(p) scissor(s)\n",
            "your trun: Choose rock(r) paper(p) scissor(s)\n",
            "p\n",
            "you choose p\n",
            "computer choose p\n",
            "A game is tie\n"
          ],
          "name": "stdout"
        }
      ]
    }
  ]
}